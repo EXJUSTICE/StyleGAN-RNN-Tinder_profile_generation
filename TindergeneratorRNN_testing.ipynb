{
  "nbformat": 4,
  "nbformat_minor": 0,
  "metadata": {
    "colab": {
      "name": "TindergeneratorRNN-testing.ipynb",
      "version": "0.3.2",
      "provenance": [],
      "collapsed_sections": []
    },
    "kernelspec": {
      "name": "python3",
      "display_name": "Python 3"
    }
  },
  "cells": [
    {
      "metadata": {
        "id": "JmeMOyMIMLqZ",
        "colab_type": "text"
      },
      "cell_type": "markdown",
      "source": [
        "Testing notebook for RNN for tinder profile generation\n",
        "\n",
        "Based on Char RNN trump project"
      ]
    },
    {
      "metadata": {
        "id": "DJvIAJW-MXY9",
        "colab_type": "code",
        "outputId": "df3494a9-7980-4dfd-9a9d-587b5c532e90",
        "colab": {
          "base_uri": "https://localhost:8080/",
          "height": 90
        }
      },
      "cell_type": "code",
      "source": [
        "import sys\n",
        "import numpy as np\n",
        "import string\n",
        "\n",
        "from keras.models import Sequential\n",
        "from keras.layers import LSTM, Dense, Activation\n",
        "\n",
        "#Change Layer count parameter as needed\n",
        "\n",
        "LAYER_COUNT = 4\n",
        "HIDDEN_LAYERS_DIM = 512\n",
        "\n",
        "\n",
        "# generic vocabulary\n",
        "characters = list(string.printable)\n",
        "characters.remove('\\x0b')\n",
        "characters.remove('\\x0c')\n",
        "\n",
        "VOCABULARY_SIZE = len(characters)\n",
        "characters_to_ix = {c:i for i,c in enumerate(characters)}\n",
        "print(\"vocabulary len = %d\" % VOCABULARY_SIZE)\n",
        "print(characters)"
      ],
      "execution_count": 0,
      "outputs": [
        {
          "output_type": "stream",
          "text": [
            "Using TensorFlow backend.\n"
          ],
          "name": "stderr"
        },
        {
          "output_type": "stream",
          "text": [
            "vocabulary len = 98\n",
            "['0', '1', '2', '3', '4', '5', '6', '7', '8', '9', 'a', 'b', 'c', 'd', 'e', 'f', 'g', 'h', 'i', 'j', 'k', 'l', 'm', 'n', 'o', 'p', 'q', 'r', 's', 't', 'u', 'v', 'w', 'x', 'y', 'z', 'A', 'B', 'C', 'D', 'E', 'F', 'G', 'H', 'I', 'J', 'K', 'L', 'M', 'N', 'O', 'P', 'Q', 'R', 'S', 'T', 'U', 'V', 'W', 'X', 'Y', 'Z', '!', '\"', '#', '$', '%', '&', \"'\", '(', ')', '*', '+', ',', '-', '.', '/', ':', ';', '<', '=', '>', '?', '@', '[', '\\\\', ']', '^', '_', '`', '{', '|', '}', '~', ' ', '\\t', '\\n', '\\r']\n"
          ],
          "name": "stdout"
        }
      ]
    },
    {
      "metadata": {
        "id": "ZHgKOFCfMa3d",
        "colab_type": "code",
        "outputId": "e831422a-5d19-4950-e739-0786a39af793",
        "colab": {
          "base_uri": "https://localhost:8080/",
          "height": 88
        }
      },
      "cell_type": "code",
      "source": [
        "#Load different models according to each layer, pick one for each approach\n",
        "\n",
        "#1 Layer\n",
        "#!gdown https://drive.google.com/uc?id=102P1bDW6Zw2HG0RySW-lerQNk4D8kUZJ\n",
        "#base_dir ='basic_LSTM_tindergenv1_singlelayer).h5'\n",
        "#2 Layers\n",
        "#!gdown https://drive.google.com/uc?id=1W5MaWWLVlevtAEYbO3ZdeeFsj5Z1PGL3\n",
        "#base_dir ='basic_LSTM_tindergenv1_2layers.h5'\n",
        "#4 Layers\n",
        "#!gdown https://drive.google.com/uc?id=1Ntbzl9j5YB_fNWyKlH9PyMJAEhqRuHyW\n",
        "#base_dir ='basic_LSTM_tindergenv1_4layers.h5'\n",
        "\n",
        "#4layers 20chars\n",
        "!gdown https://drive.google.com/uc?id=1gn2agW0W7arYZNOfQWHQ8wxxSbFItgma\n",
        "base_dir = 'basic_LSTM_tindergenv1_4layers_20char.h5'\n"
      ],
      "execution_count": 0,
      "outputs": [
        {
          "output_type": "stream",
          "text": [
            "Downloading...\n",
            "From: https://drive.google.com/uc?id=1gn2agW0W7arYZNOfQWHQ8wxxSbFItgma\n",
            "To: /content/basic_LSTM_tindergenv1_4layers_20char.h5\n",
            "91.2MB [00:00, 197MB/s]\n"
          ],
          "name": "stdout"
        }
      ]
    },
    {
      "metadata": {
        "id": "c3Bu7pSqRbPY",
        "colab_type": "code",
        "outputId": "27fee6a8-db2d-474b-d03e-9cfd53862222",
        "colab": {
          "base_uri": "https://localhost:8080/",
          "height": 90
        }
      },
      "cell_type": "code",
      "source": [
        "#Load in model weights, we changed our input count to 1 for generation (vs. 10 for training)\n",
        "\n",
        "test_model = Sequential()\n",
        "for i in range(LAYER_COUNT):\n",
        "    test_model.add(\n",
        "            LSTM(\n",
        "                HIDDEN_LAYERS_DIM, \n",
        "                return_sequences=True if (i!=(LAYER_COUNT-1)) else False,\n",
        "                batch_input_shape=(1, 1, VOCABULARY_SIZE),\n",
        "                stateful=True\n",
        "            )\n",
        "        )\n",
        "test_model.add(Dense(VOCABULARY_SIZE))\n",
        "test_model.add(Activation('softmax'))\n",
        "test_model.compile(loss='categorical_crossentropy', optimizer=\"adam\")\n",
        "\n",
        "from keras.models import load_model\n",
        "test_model.load_weights(base_dir)"
      ],
      "execution_count": 0,
      "outputs": [
        {
          "output_type": "stream",
          "text": [
            "WARNING:tensorflow:From /usr/local/lib/python3.6/dist-packages/tensorflow/python/framework/op_def_library.py:263: colocate_with (from tensorflow.python.framework.ops) is deprecated and will be removed in a future version.\n",
            "Instructions for updating:\n",
            "Colocations handled automatically by placer.\n"
          ],
          "name": "stdout"
        }
      ]
    },
    {
      "metadata": {
        "id": "XFGS_0kySCGO",
        "colab_type": "code",
        "colab": {}
      },
      "cell_type": "code",
      "source": [
        "#Auxilliary methods from Chollet\n",
        "\n",
        "def sample(preds, temperature=1.0):\n",
        "    \"\"\"Helper function to sample an index from a probability array\"\"\"\n",
        "    # from fchollet/keras\n",
        "    preds = np.asarray(preds).astype('float64')\n",
        "    preds = np.log(preds) / temperature\n",
        "    exp_preds = np.exp(preds)\n",
        "    preds = exp_preds / np.sum(exp_preds)\n",
        "    probas = np.random.multinomial(1, preds, 1)\n",
        "    return np.argmax(probas)\n",
        "\n",
        "def predict_next_char(model, current_char, diversity=1.0):\n",
        "    \"\"\"Predict the next character from the current one\"\"\"\n",
        "    x = np.zeros((1, 1, VOCABULARY_SIZE))\n",
        "    x[:,:,characters_to_ix[current_char]] = 1\n",
        "    y = model.predict(x, batch_size=1)\n",
        "    next_char_ix = sample(y[0,:], temperature=diversity)\n",
        "    next_char = characters[next_char_ix]\n",
        "    return next_char\n",
        "\n",
        "def generate_text(model, seed, count=250):\n",
        "    \"\"\"Generate characters from a given seed\"\"\"\n",
        "    model.reset_states()\n",
        "    for s in seed[:-1]:\n",
        "        next_char = predict_next_char(model, s)\n",
        "    current_char = seed[-1]\n",
        "\n",
        "    sys.stdout.write(\"[\"+seed+\"]\")\n",
        "    \n",
        "    for i in range(count - len(seed)):\n",
        "        next_char = predict_next_char(model, current_char, diversity=0.5)\n",
        "        current_char = next_char\n",
        "        sys.stdout.write(next_char)\n",
        "    print(\"...\\n\")"
      ],
      "execution_count": 0,
      "outputs": []
    },
    {
      "metadata": {
        "id": "HASCqQIHSFMe",
        "colab_type": "code",
        "outputId": "8aa4f556-e8d9-47c1-cd7c-1ad6ddc7bd39",
        "colab": {
          "base_uri": "https://localhost:8080/",
          "height": 1815
        }
      },
      "cell_type": "code",
      "source": [
        "for i in range(50):\n",
        "    generate_text(\n",
        "        test_model,\n",
        "        seed=\"I like\"\n",
        "    )"
      ],
      "execution_count": 0,
      "outputs": [
        {
          "output_type": "stream",
          "text": [
            "[I like] makeup and showing my artistic side. Im funny and goofy  I love cooking Im not into the hook up culture as much as people my age. Im sick of a single mother to a conversation going to the gym and my dog type  I like to do a lot but what I was ...\n",
            "\n",
            "[I like] to go on new places, living in a boating and watching greys an activities and trying new things.  If you swipe right on insta again.SextonI love animals and marvel movies  I'm very sarcastic with a dirty sense of humor  I am not skinny I am a ...\n",
            "\n",
            "[I like] dancing and girly drinks and trying new things.  If you have a dog named Tinkerbelle that i wont have a driver license.I like dancing and girly drinks and trying new things.  If you swipe right, good to know someone besides my mom thinks Im a ...\n",
            "\n",
            "[I like] to travel and go on adventures! Im a mom. I love going to concerts and trying new things.  If you swipe right, good to get to know me and that all color change I am the best conversation and see where things go on and watch movies and drinking...\n",
            "\n",
            "[I like] to travel, eat good food, working out, & the beach, and anime   Im not skinny I am a Big girl and 6ft.  Probably the kindest yet sassiest person you will meet.  Judgment is not in my nature doesnt mean I wont me to do something serious as I co...\n",
            "\n",
            "[I like] long walks in Costco, drinking wine by the bottle and vacuuming small toys while my toddler isnt looking to hook up Looking for someone interesting someone interesting. Not into the hook up culture as much as people my age. Im looking for frie...\n",
            "\n",
            "[I like] dancing and girly drinks and trying new things.  If you have a dog named Rick. I love animals and marvel movies  I'm very sarcastic with a dirty sense of humor  I am not skinny I am a Big girl and 6ft.  Probably the kindest yet sassiest person...\n",
            "\n",
            "[I like] going to concerts and make some new friends. I love animals and trying new things. I love to travel and go on adventures. I love a good sense of humor  I am not skinny I am a Big girl and 6ft.  Probably the kindest yet sassiest person you will...\n",
            "\n",
            "[I like] to take photos and play cars, traveling, smoking my Juul, good tunes  Math me all the time  If you want to know more about me swipe right if you have a dog.....I wanna be bestfriends with it Medical field is my passion  Rockets baby I actually...\n",
            "\n",
            "[I like] to laugh and make compliment you with me. Not looking for hook ups  I work a lot, watch so if you dont like spending time with friends with it Medical field is my passion  Rockets baby I actually like country music Down for anything nowadays s...\n",
            "\n",
            "[I like] makeup and showing my artistic side. Im not into hooking up and go on random adventures and explore new experiences  Looking for someone to go on new adventures and talk about the beach  movies and drinking with someone.  Lookin for a man that...\n",
            "\n",
            "[I like] dancing and girly drinks and trying new things. I like to do cool person, and I have a tattoo of my dogs underbite on my right bicep so I can kiss it when I miss her and that and choose to be around. I like dancing and girly drinks and trying ...\n",
            "\n",
            "[I like] dancing and girly drinks and trying new things.  If you swipe right, good to know me join me  I like dancing and girly drinks and trying new things. I also want to be shy and make some new friends  I love animals and marvel movies  I'm very sa...\n",
            "\n",
            "[I like] dancing and girly drinks and trying new things. I like to share and have fun with being serious relationship. I have a great sense of humor  I am not skinny I am a Big girl and 6ft.  Probably the kindest yet sassiest person you will meet.  Jud...\n",
            "\n",
            "[I like] to cook  so please go to the beach  Studied abroad the love of the book (sometimes                                                                                                                                                                 ...\n",
            "\n",
            "[I like] to take photos and trying new things.  If you have a dog named Student just going to flirtget to know me just to ghost me to inflate your ego, Id thing a conversations. (Or all three.)  P.S- If youre just going to flirtget to know someone besi...\n",
            "\n",
            "[I like] music and other peoples babies.  Im not into the hook up culture as much as people my age. Im looking for someone interesting. I love dogs and other people I dont have them  I have a tattoo of my dogs underbite on my right bicep so I can kiss ...\n",
            "\n",
            "[I like] to talk and I like to go on new places and trying new things.  If you have a dog named Bisexual and in California  I love my dog more than I will see what the hype is going to get to know someone besides my mom thinks Im pretty. If I swiped ri...\n",
            "\n",
            "[I like] makeup and showing my artistic side. Im funny, bold and caring. Im not a good girl, I like working out, beach or a drink or some greeen enthusiast, concerts, and staying a movie  that are conversations. (Or all three.)  P.S- If youre just goin...\n",
            "\n",
            "[I like] to go on adventures and go on adventures. Im a single match up with my life  Adventure  If you have a dog named Tinkerbelly I need to know more about it seeing what the hell is what you want to know just ask me your favorite things in life and...\n",
            "\n",
            "[I like] makeup and showing my artistic side. Im funny and goofy  I love country music Down for anything nowadays school and work take up most of my time   Short and sarcastic with a dirty sense of humor  I am not skinny I am a Big girl and 6ft.  Proba...\n",
            "\n",
            "[I like] traveling, love to cook, dance, and trying new things.  If you swipe right, good to know someone besides my mom thinks Im pretty. If I swiped right after you first  Also, Im funny, but I can cook something serious and if it gets to do somethin...\n",
            "\n",
            "[I like] to go on casual dates and go on adventures and explore new places and talk about music and go on random adventures and exciting things and enjoy the good times and I like to take pics of a movie buddy I dont need a place to date and watch this...\n",
            "\n",
            "[I like] dogs and other people who are taller than me  I like to take photos with you if you dont like dogs and other people and enjoy the good laughs.  I love animals and marvel movies  I'm very sarcastic with a dirty sense of humor  I am not skinny I...\n",
            "\n",
            "[I like] to talk and I like to take photos and trying new things.  If you swipe right, good to know someone besides mome things and enjoy the good times beautiful kids. I like to do nights are cuddling and trying new things. I love animals and marvel m...\n",
            "\n",
            "[I like] music and going to the moment. I'm a teacher and social media for the most stuff and see where things go to the rest to think out or a date  If you have a dog.....I wanna be bestfriends with it Medical field is my passion  Rockets baby I actua...\n",
            "\n",
            "[I like] dancing and girly drinks and trying new things.  If you swipe right for me to find someone serious inquiries.  Puppy but also very sure what I love to do anime I love baseball and coffee   I love music and chill and see where it goes.Im a sing...\n",
            "\n",
            "[I like] to take photos with and go on adventures and eat steak  Follow my IG which Im not trying to hook up with you.  Some of my favorite nights are cuddling and trying new things. I also want to go to concerts, and caring. Im not a good time not all...\n",
            "\n",
            "[I like] dancing and girly drinks and trying new things.  If you swipe right if you have a dog... Im a goofy named hair and send a dm so I know its real From Alaba There's a 96% chance I can tell you more about myself but pretty new in the more attendi...\n",
            "\n",
            "[I like] to laugh and have fun. I like to cook. I like dancing and girly drinks and trying new things.  If you swipe right, good to get to know someone besides me my mind   I have a dog pics of my favorite nights are cuddling in bed watching movies and...\n",
            "\n",
            "[I like] dancing and girly drinks and trying new things. I also probably the beach or a connection with any of my free time. Im funny, bold and caring. Im not a snacc, Im the full meal.  I have a big personality and am looking for a good time (not to l...\n",
            "\n",
            "[I like] dancing and girly drinks and trying new things.  If you have a dog named Renicel. Im funny and on a conster as this app so if you can make me laugh your life in LA and I like to stay hear your favorite book (up to me. Lets hang out and get to ...\n",
            "\n",
            "[I like] going to concerts, and anime   I like to go on nice spicy  Looking for someone to share the universe  Something serious.  Business owner of the weirdness of the same and I can get to know someone besides my mom thinks Im pretty. If I swipe rig...\n",
            "\n",
            "[I like] dancing and girly drinks and trying new things. I also love to travel and go on adventures and watch the beach  Instagram  jaymeee Insta sorry I like going to the beach, hiking, running, and adventures!  I like dogs and other people make to kn...\n",
            "\n",
            "[I like] to find someone to talk spontaneous adventures and trying new things.  If you have a dog nothing else especially not sexual encounters . Dont be weirdcrazyfkboyrude. Ig zaiyum Not Asian, Im looking for someone interesting new people and feel t...\n",
            "\n",
            "[I like] to go on new places, or go out with friends, playing with my dog and showing my artistic side. Im not a snacc, Im the full meal.  I have a big personality, and an even bigger ass.  Honestly just looking for someone interesting people. Not a bi...\n",
            "\n",
            "[I like] dancing and girly drinks and trying new things.  If you swipe right, good to know someone interesting. Not sorry. Someone who is interested in dout about me because I dont have any one   I want to go on a food runs and go on adventures. Hot mu...\n",
            "\n",
            "[I like] to play bars, and social mediaSalonbold and the world that I dont know where then swipe right if you still listen to music with my dog is my favorite nights. Honestly just looking for someone interesting people and see where it goes. I love to...\n",
            "\n",
            "[I like] to take photos and just ask. I want to be more than just a quick hookup.  MUST LOVE CUDDLING.  That awkward moment when I dont have a driver license.Looking for someone interesting people and see where it goes from there   I like to smoke a jo...\n",
            "\n",
            "[I like] dancing and girly drinks and trying new things.  If you swipe right, good to know someone besides my mom thinks Im pretty. If I swiped right, you either make me laugh and will talk and I like to do something serious but it doesnt mean I wont m...\n",
            "\n",
            "[I like] to take photos and try new things.  If you have a dog happy hour yet Busy on here                                                                                                                                                                  ...\n",
            "\n",
            "[I like] dancing and girly drinks and trying new things.  If you have a dog named State and I'm a big girl and 6ft.  Probably the kindest yet sassiest person you will meet.  Judgment is not in my nature doesnt mean I wont me to delete this app as a foo...\n",
            "\n",
            "[I like] to do you the short girl in my life like I have to stop hard. Im not into the hook up culture as much as people my age. Im looking for a relationship and it's a mother of two house with a girl who loves her family and friends Im a good time an...\n",
            "\n",
            "[I like] dancing and girly drinks and trying new things. I like to take photos to do. Im not into the hook up culture as much as people my age. Im looking for someone to show me a good time   If you have a dog.....I wanna be bestfriends with it down fo...\n",
            "\n",
            "[I like] dancing and girly drinks and trying new things.  If you have a dog named Disneyland with a big heart and with a big personality, and an even bigger ass.  Honestly just looking for someone to go on new places for a conversation to chat and get ...\n",
            "\n",
            "[I like] makeup and showing my artistic side. Im funny and on a trip to the room and the gym so if that's all you want to know more about me short to be a nerd. I am also a little bit of a tall conversation. I love to go on adventures and eat steak  Fo...\n",
            "\n",
            "[I like] to go on adventures and talk about the world. I have a tattoo of my dogs underbite on my right bicep so I can kiss it when I miss her and on here because I dont have a driver license.Hi Im 28 and Im either special so if you can make me laugh, ...\n",
            "\n",
            "[I like] to play hard to get to know me more about me with me and will go on a date I love my dog.I love animals and marvel movies  I'm very sarcastic with a dirty sense of humor  I am not skinny I am a Big girl and 6ft.  Probably the kindest yet sassi...\n",
            "\n",
            "[I like] to stay active and baseball and chill. Im not into the hook up culture as much as people my age. Im looking for someone interesting. No douches places, honesty, or something more than anything that loves hiking, and adventures. I like dancing ...\n",
            "\n",
            "[I like] dancing and girly drinks and trying new things.  If you have a dog named Relationship. Not a fuck up consulter from Boston, looking for a man that knows men aint shit.  P.S. it happy hour yetJust a laid back gal who likes long walks in the hoo...\n",
            "\n"
          ],
          "name": "stdout"
        }
      ]
    }
  ]
}