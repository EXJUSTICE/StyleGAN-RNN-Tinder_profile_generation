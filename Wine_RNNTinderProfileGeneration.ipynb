{
  "nbformat": 4,
  "nbformat_minor": 0,
  "metadata": {
    "colab": {
      "name": "Wine RNNTinderProfileGeneration.ipynb",
      "version": "0.3.2",
      "provenance": [],
      "collapsed_sections": [],
      "toc_visible": true
    },
    "kernelspec": {
      "name": "python3",
      "display_name": "Python 3"
    },
    "accelerator": "GPU"
  },
  "cells": [
    {
      "cell_type": "markdown",
      "metadata": {
        "id": "VtzZORs9pZUr",
        "colab_type": "text"
      },
      "source": [
        "# Tinder profile generation with RNNs"
      ]
    },
    {
      "cell_type": "markdown",
      "metadata": {
        "id": "EtMF6Q6-pY5r",
        "colab_type": "text"
      },
      "source": [
        "\n",
        "\n",
        "Part of the Tinder profile generation project\n",
        "This section handles the profile text generation using LSTMs\n",
        "we use the kaggle TInder dataset at https://www.kaggle.com/immune/tinder-profiles\n",
        "\n",
        "\n",
        "Based primary on Brownlees tutorial\n",
        "https://machinelearningmastery.com/text-generation-lstm-recurrent-neural-networks-python-keras/\n",
        "@author: Adrian\n",
        "\n",
        "DONT FORGET TO GET RANDOM SEED GEN FROM TRUMP OR BROWNLEE\n",
        "\n",
        "Brownlees tutorial helps with understanding, but for actual generation, Trump CharRNN is much more useful\n",
        "https://github.com/jctestud/char-rnn/blob/master/char-rnn_trump_text_generation-TRAINING.ipynb\n",
        "\n",
        "TLDR: Uses a certain length of chars to predict the next char in a Bio, trained on over 40K Bios"
      ]
    },
    {
      "cell_type": "code",
      "metadata": {
        "id": "W5TFQI0Cppx1",
        "colab_type": "code",
        "outputId": "6913e459-c552-4e2f-917d-552abc859cdb",
        "colab": {
          "base_uri": "https://localhost:8080/",
          "height": 106
        }
      },
      "source": [
        "#Import all packages\n",
        "\n",
        "import matplotlib.pyplot as plt\n",
        "import seaborn as sns\n",
        "import pandas as pd\n",
        "import numpy as np\n",
        "import string\n",
        "import warnings\n",
        "import sklearn\n",
        "import io\n",
        "import scipy\n",
        "import numpy\n",
        "import json\n",
        "import nltk\n",
        "import sys\n",
        "import csv\n",
        "import os\n",
        "import re\n",
        "from keras.models import Sequential\n",
        "from keras.layers import LSTM, Dropout, Activation, Dense\n",
        "\n",
        "!gdown https://drive.google.com/uc?id=1A8zyqs9j-kS1oE2xUhhFSRe0UGEtp_sc\n"
      ],
      "execution_count": 1,
      "outputs": [
        {
          "output_type": "stream",
          "text": [
            "Using TensorFlow backend.\n"
          ],
          "name": "stderr"
        },
        {
          "output_type": "stream",
          "text": [
            "Downloading...\n",
            "From: https://drive.google.com/uc?id=1A8zyqs9j-kS1oE2xUhhFSRe0UGEtp_sc\n",
            "To: /content/wine.csv\n",
            "5.01MB [00:00, 15.9MB/s]\n"
          ],
          "name": "stdout"
        }
      ]
    },
    {
      "cell_type": "code",
      "metadata": {
        "id": "7OdDzt7wpwUH",
        "colab_type": "code",
        "outputId": "db6e7d7d-8c0e-4ef1-b650-bcd84e287194",
        "colab": {
          "base_uri": "https://localhost:8080/",
          "height": 1619
        }
      },
      "source": [
        "#Text import and preprocessing\n",
        "base_dir = 'wine.csv'\n",
        "\n",
        "\n",
        "tinder_profile_df = pd.read_csv(base_dir)\n",
        "\n",
        "# Print dataframe info\n",
        "tinder_profile_df.info()\n",
        "\n",
        "print(tinder_profile_df.head())\n",
        "\n",
        "# This will print the number of rows and columns that will be used to train\n",
        "print(\"Shape of train set : \",tinder_profile_df.shape)\n",
        "\n",
        "#tinder_profile_df.head()\n",
        "\n",
        "#Convert dataframe to string already here\n",
        "\n",
        "tinder_bios_df=tinder_profile_df['description'].apply(str)\n",
        "\n",
        "\n",
        "\n",
        "#Print only thhe bios\n",
        "print(tinder_bios_df)\n",
        "\n",
        "#Define a generic vocabulary\n",
        "# generic vocabulary\n",
        "characters = list(string.printable)\n",
        "characters.remove('\\x0b')\n",
        "characters.remove('\\x0c')\n",
        "\n",
        "VOCABULARY_SIZE = len(characters)\n",
        "characters_to_ix = {c:i for i,c in enumerate(characters)}\n",
        "print(\"vocabulary len = %d\" % VOCABULARY_SIZE)\n",
        "print(characters)"
      ],
      "execution_count": 2,
      "outputs": [
        {
          "output_type": "stream",
          "text": [
            "<class 'pandas.core.frame.DataFrame'>\n",
            "RangeIndex: 15092 entries, 0 to 15091\n",
            "Data columns (total 11 columns):\n",
            "Unnamed: 0     15092 non-null int64\n",
            "country        15090 non-null object\n",
            "description    15092 non-null object\n",
            "designation    10747 non-null object\n",
            "points         15092 non-null int64\n",
            "price          14160 non-null float64\n",
            "province       15090 non-null object\n",
            "region_1       12821 non-null object\n",
            "region_2       5871 non-null object\n",
            "variety        15092 non-null object\n",
            "winery         15092 non-null object\n",
            "dtypes: float64(1), int64(2), object(8)\n",
            "memory usage: 1.3+ MB\n",
            "   Unnamed: 0 country  ...             variety                   winery\n",
            "0           0      US  ...  Cabernet Sauvignon                    Heitz\n",
            "1           1   Spain  ...       Tinta de Toro  Bodega Carmen Rodríguez\n",
            "2           2      US  ...     Sauvignon Blanc                 Macauley\n",
            "3           3      US  ...          Pinot Noir                    Ponzi\n",
            "4           4  France  ...  Provence red blend     Domaine de la Bégude\n",
            "\n",
            "[5 rows x 11 columns]\n",
            "Shape of train set :  (15092, 11)\n",
            "0        This tremendous 100% varietal wine hails from ...\n",
            "1        Ripe aromas of fig, blackberry and cassis are ...\n",
            "2        Mac Watson honors the memory of a wine once ma...\n",
            "3        This spent 20 months in 30% new French oak, an...\n",
            "4        This is the top wine from La Bégude, named aft...\n",
            "5        Deep, dense and pure from the opening bell, th...\n",
            "6        Slightly gritty black-fruit aromas include a s...\n",
            "7        Lush cedary black-fruit aromas are luxe and of...\n",
            "8        This re-named vineyard was formerly bottled as...\n",
            "9        The producer sources from two blocks of the vi...\n",
            "10       Elegance, complexity and structure come togeth...\n",
            "11       From 18-year-old vines, this supple well-balan...\n",
            "12       A standout even in this terrific lineup of 201...\n",
            "13       This wine is in peak condition. The tannins an...\n",
            "14       With its sophisticated mix of mineral, acid an...\n",
            "15       First made in 2006, this succulent luscious Ch...\n",
            "16       This blockbuster, powerhouse of a wine suggest...\n",
            "17       Nicely oaked blackberry, licorice, vanilla and...\n",
            "18       Coming from a seven-acre vineyard named after ...\n",
            "19       This fresh and lively medium-bodied wine is be...\n",
            "20       Heitz has made this stellar rosé from the rare...\n",
            "21       Alluring, complex and powerful aromas of grill...\n",
            "22       Tarry blackberry and cheesy oak aromas are app...\n",
            "23       The apogee of this ambitious winery's white wi...\n",
            "24       San Jose-based producer Adam Comartin heads 1,...\n",
            "25       Yields were down in 2015, but intensity is up,...\n",
            "26       Bergström has made a Shea designate since 2003...\n",
            "27       Focused and dense, this intense wine captures ...\n",
            "28       Cranberry, baked rhubarb, anise and crushed sl...\n",
            "29       This standout Rocks District wine brings earth...\n",
            "                               ...                        \n",
            "15062    “Rotschiefer” means “red slate,” a reference t...\n",
            "15063    No malo in this tight, acidic young wine. It's...\n",
            "15064    Blackberries and blueberries star on the palat...\n",
            "15065    Nicely done for an entry-level wine, with love...\n",
            "15066    Released along with the '02, this wine still t...\n",
            "15067    Nicely captures Pinot's delicacy and silkiness...\n",
            "15068    Part of a growing trend among German wines, th...\n",
            "15069    Oakier than Tscheppe's regular bottling but ul...\n",
            "15070    Still hard and tough in tannins, but that's Mo...\n",
            "15071    Made by Charles Cimicky, who apparently also h...\n",
            "15072    On the light side, but not lacking for concent...\n",
            "15073    The Czerny family, who have 27 acres of vines ...\n",
            "15074    Subtle spice and candied cherries on the nose ...\n",
            "15075    Smells like ultraripe nectarines or peaches, f...\n",
            "15076    Very ripe, in fact, shows signs of overripenes...\n",
            "15077    This isn't a wine to age or mull over, but I l...\n",
            "15078    Another nice GV from Allram—and at an excellen...\n",
            "15079    Smells like a dessert wine, with apricot, smok...\n",
            "15080    A full-bodied wine, with aromas of apples and ...\n",
            "15081    Oak lends nutty, caroby aromas and big, woodsy...\n",
            "15082    Smells meaty, with a streak of eucalyptus. Tau...\n",
            "15083    This wine gets full credit for its smooth, era...\n",
            "15084    Much better than a bottle previously reviewed,...\n",
            "15085    Classic BV Rutherford, with its thick, dusty t...\n",
            "15086    The first wine I've had from the new vintage i...\n",
            "15087    Soft and mouthfilling, with apple, pear, citru...\n",
            "15088    Very ripe in berry fruit, but dry, with a firm...\n",
            "15089    Cool-climate Chard, with crisp, outspoken acid...\n",
            "15090    A spare, austere, lemony sort of Sauvignon.It ...\n",
            "15091    This year Byington blended in some Syrah with ...\n",
            "Name: description, Length: 15092, dtype: object\n",
            "vocabulary len = 98\n",
            "['0', '1', '2', '3', '4', '5', '6', '7', '8', '9', 'a', 'b', 'c', 'd', 'e', 'f', 'g', 'h', 'i', 'j', 'k', 'l', 'm', 'n', 'o', 'p', 'q', 'r', 's', 't', 'u', 'v', 'w', 'x', 'y', 'z', 'A', 'B', 'C', 'D', 'E', 'F', 'G', 'H', 'I', 'J', 'K', 'L', 'M', 'N', 'O', 'P', 'Q', 'R', 'S', 'T', 'U', 'V', 'W', 'X', 'Y', 'Z', '!', '\"', '#', '$', '%', '&', \"'\", '(', ')', '*', '+', ',', '-', '.', '/', ':', ';', '<', '=', '>', '?', '@', '[', '\\\\', ']', '^', '_', '`', '{', '|', '}', '~', ' ', '\\t', '\\n', '\\r']\n"
          ],
          "name": "stdout"
        }
      ]
    },
    {
      "cell_type": "code",
      "metadata": {
        "id": "M5bvB2WZqDGS",
        "colab_type": "code",
        "outputId": "e771d091-fc4a-4080-a50e-c187de29f68a",
        "colab": {
          "base_uri": "https://localhost:8080/",
          "height": 195
        }
      },
      "source": [
        "#Extract individual bios into one large string\n",
        "\n",
        "#Usually We would pad our sequences, but a quick inspection reveals sequences are drastically different lenghts\n",
        "#hence lets just join them together.\n",
        "#We define a filtering function first\n",
        "holder = []\n",
        "for i in range(0, len(tinder_bios_df)):\n",
        "    #print (tinder_bios_df.iloc[i]);\n",
        "    string = tinder_bios_df.iloc[i]\n",
        "\n",
        "    if(string== \"nan\"):\n",
        "        print(\"nan detected, moving on\")\n",
        "    else:\n",
        "        holder.append(string)\n",
        "\n",
        "#print(holder) \n",
        "\n",
        "alphaholder= []\n",
        "regex = re.compile('[^A-Za-z0-9 -.,]')\n",
        "#now that holder is ready we remove all non alphanumeric entries\n",
        "for i in range(0, len(holder)):\n",
        "    string = holder[i]\n",
        "    \n",
        "    \n",
        "    #First parameter is the replacement, second parameter is your input string\n",
        "    newstring = regex.sub('', string)\n",
        "\n",
        "    alphaholder.append(newstring)\n",
        "    \n",
        "    \n",
        "#print(alphaholder)\n",
        "\n",
        "#Split data into train and validation strings\n",
        "trainholder=[]\n",
        "validationholder=[]\n",
        "\n",
        "print(len(alphaholder))\n",
        "#Len alphaholder is 43660\n",
        "for i in range(0, 12000): \n",
        "    trainstring = alphaholder[i]\n",
        "    trainholder.append(trainstring)\n",
        "for i in range(12000, len(alphaholder)): \n",
        "    valstring = alphaholder[i]\n",
        "    validationholder.append(valstring)\n",
        "\n",
        "\n",
        "#14-04-2019 Data is now ready, need to append into giant string\n",
        "finalstring = ''.join(trainholder)\n",
        "validationstring = ''.join(validationholder)\n",
        "\n",
        "print(finalstring)\n",
        "print(validationstring)"
      ],
      "execution_count": 3,
      "outputs": [
        {
          "output_type": "stream",
          "text": [
            "IOPub data rate exceeded.\n",
            "The notebook server will temporarily stop sending output\n",
            "to the client in order to avoid crashing it.\n",
            "To change this limit, set the config variable\n",
            "`--NotebookApp.iopub_data_rate_limit`.\n",
            "\n",
            "Current values:\n",
            "NotebookApp.iopub_data_rate_limit=1000000.0 (bytes/sec)\n",
            "NotebookApp.rate_limit_window=3.0 (secs)\n",
            "\n"
          ],
          "name": "stderr"
        }
      ]
    },
    {
      "cell_type": "markdown",
      "metadata": {
        "id": "i1GbKdFYqO41",
        "colab_type": "text"
      },
      "source": [
        "**Model Building**"
      ]
    },
    {
      "cell_type": "code",
      "metadata": {
        "id": "7x3qGOqAqSul",
        "colab_type": "code",
        "outputId": "7551aba4-d7ad-43c6-8fcb-3bc29eb23064",
        "colab": {
          "base_uri": "https://localhost:8080/",
          "height": 106
        }
      },
      "source": [
        "#Some variables to set here\n",
        "N_GPU = 1\n",
        "# you can experiment with more GPUs, it gets interesting with a high SEQUENCE_LEN\n",
        "SEQUENCE_LEN = 20; \n",
        "#This is the char length of each individual sequence\n",
        "#Essentially, we use 60 chars to predict the 61st char. This needs to be shorter for us\n",
        "BATCH_SIZE = 512 #Number of sequences fed at once in batch\n",
        "EPOCHS = 10\n",
        "HIDDEN_LAYERS_DIM = 512\n",
        "LAYER_COUNT = 4\n",
        "DROPOUT = 0.2\n",
        "\n",
        "text_train_len = len(finalstring)\n",
        "text_val_len = len(validationstring)\n",
        "def describe_batch(X, y, samples=3):\n",
        "    \"\"\"Describe in a human-readable format some samples from a batch.  Show the next char given previous char\"\"\"\n",
        "    for i in range(samples):\n",
        "        sentence = \"\"\n",
        "        for s in range(SEQUENCE_LEN):\n",
        "            sentence += characters[X[i,s,:].argmax()]\n",
        "        next_char = characters[y[i,:].argmax()]\n",
        "        \n",
        "        print(\"sample #%d: ...%s -> '%s'\" % (\n",
        "            i,\n",
        "            sentence[-20:],\n",
        "            next_char\n",
        "        ))\n",
        "    \n",
        "def batch_generator(text, count):\n",
        "    \"\"\"Generate batches for training\"\"\"\n",
        "    while True: # keras wants that for reasons\n",
        "        for batch_ix in range(count):\n",
        "            X = np.zeros((BATCH_SIZE, SEQUENCE_LEN, VOCABULARY_SIZE))\n",
        "            y = np.zeros((BATCH_SIZE, VOCABULARY_SIZE))\n",
        "\n",
        "            batch_offset = BATCH_SIZE * batch_ix\n",
        "\n",
        "            for sample_ix in range(BATCH_SIZE):\n",
        "                sample_start = batch_offset + sample_ix\n",
        "                for s in range(SEQUENCE_LEN):\n",
        "                    X[sample_ix, s, characters_to_ix[text[sample_start+s]]] = 1\n",
        "                y[sample_ix, characters_to_ix[text[sample_start+s+1]]]=1\n",
        "\n",
        "            yield X, y\n",
        "            \n",
        "\n",
        "\n",
        "for ix, (X,y) in enumerate(batch_generator(finalstring, count=1)):\n",
        "    # describe some samples from the first batch\n",
        "    describe_batch(X, y, samples=5)\n",
        "    break"
      ],
      "execution_count": 4,
      "outputs": [
        {
          "output_type": "stream",
          "text": [
            "sample #0: ...This tremendous 100% -> ' '\n",
            "sample #1: ...his tremendous 100%  -> 'v'\n",
            "sample #2: ...is tremendous 100% v -> 'a'\n",
            "sample #3: ...s tremendous 100% va -> 'r'\n",
            "sample #4: ... tremendous 100% var -> 'i'\n"
          ],
          "name": "stdout"
        }
      ]
    },
    {
      "cell_type": "code",
      "metadata": {
        "id": "QD7I3Td-qb0q",
        "colab_type": "code",
        "outputId": "7d100307-f8d8-485b-99f3-a4218fb1e854",
        "colab": {
          "base_uri": "https://localhost:8080/",
          "height": 179
        }
      },
      "source": [
        "###########################################Model Building#################################\n",
        "    ###From trump char builder\n",
        "def build_model(gpu_count=1):\n",
        "    \"\"\"Build a Keras sequential model for training the char-rnn\"\"\"\n",
        "    model = Sequential()\n",
        "    for i in range(LAYER_COUNT):\n",
        "        model.add(\n",
        "            LSTM(\n",
        "                HIDDEN_LAYERS_DIM, \n",
        "                return_sequences=True if (i!=(LAYER_COUNT-1)) else False,\n",
        "                input_shape=(SEQUENCE_LEN, VOCABULARY_SIZE),\n",
        "            )\n",
        "        )\n",
        "        model.add(Dropout(DROPOUT))\n",
        "    \n",
        "    model.add(Dense(VOCABULARY_SIZE))\n",
        "    model.add(Activation('softmax'))\n",
        "    \n",
        "    #removed the multigpu line\n",
        "    \n",
        "    model.compile(loss='categorical_crossentropy', optimizer=\"adam\")\n",
        "    return model\n",
        "\n",
        "\n",
        "training_model = build_model(gpu_count=N_GPU)\n",
        "\n",
        "train_batch_count = (text_train_len - SEQUENCE_LEN) // BATCH_SIZE\n",
        "val_batch_count = (text_val_len - SEQUENCE_LEN) // BATCH_SIZE\n",
        "print(\"training batch count: %d\" % train_batch_count)\n",
        "print(\"validation batch count: %d\" % val_batch_count)\n",
        "\n",
        "\n",
        "#NO CHECKPOINTING IN THIS VERSION, because of simplicity and because our dataset is much smaller"
      ],
      "execution_count": 5,
      "outputs": [
        {
          "output_type": "stream",
          "text": [
            "WARNING:tensorflow:From /usr/local/lib/python3.6/dist-packages/tensorflow/python/framework/op_def_library.py:263: colocate_with (from tensorflow.python.framework.ops) is deprecated and will be removed in a future version.\n",
            "Instructions for updating:\n",
            "Colocations handled automatically by placer.\n",
            "WARNING:tensorflow:From /usr/local/lib/python3.6/dist-packages/keras/backend/tensorflow_backend.py:3445: calling dropout (from tensorflow.python.ops.nn_ops) with keep_prob is deprecated and will be removed in a future version.\n",
            "Instructions for updating:\n",
            "Please use `rate` instead of `keep_prob`. Rate should be set to `rate = 1 - keep_prob`.\n",
            "training batch count: 5723\n",
            "validation batch count: 1459\n"
          ],
          "name": "stdout"
        }
      ]
    },
    {
      "cell_type": "code",
      "metadata": {
        "id": "IFc8403oqhrd",
        "colab_type": "code",
        "outputId": "f6922584-711f-4d6e-91ad-2fbd6cd83f22",
        "colab": {
          "base_uri": "https://localhost:8080/",
          "height": 446
        }
      },
      "source": [
        "history = training_model.fit_generator(\n",
        "    batch_generator(finalstring, count=train_batch_count),\n",
        "    train_batch_count,\n",
        "    max_queue_size=1, # no more than one queued batch in RAM\n",
        "    epochs=EPOCHS,\n",
        "    validation_data=batch_generator(validationstring, count=val_batch_count),\n",
        "    validation_steps=val_batch_count,\n",
        "    initial_epoch=0\n",
        ")\n",
        "training_model.save('basic_LSTM_tindergenv1_4layers_30char.h5')"
      ],
      "execution_count": 6,
      "outputs": [
        {
          "output_type": "stream",
          "text": [
            "WARNING:tensorflow:From /usr/local/lib/python3.6/dist-packages/tensorflow/python/ops/math_ops.py:3066: to_int32 (from tensorflow.python.ops.math_ops) is deprecated and will be removed in a future version.\n",
            "Instructions for updating:\n",
            "Use tf.cast instead.\n",
            "Epoch 1/10\n",
            "5723/5723 [==============================] - 1534s 268ms/step - loss: 1.5168 - val_loss: 1.1563\n",
            "Epoch 2/10\n",
            "5723/5723 [==============================] - 1520s 266ms/step - loss: 1.0724 - val_loss: 1.0235\n",
            "Epoch 3/10\n",
            "5723/5723 [==============================] - 1511s 264ms/step - loss: 0.9936 - val_loss: 0.9781\n",
            "Epoch 4/10\n",
            "5723/5723 [==============================] - 1519s 265ms/step - loss: 0.9522 - val_loss: 0.9545\n",
            "Epoch 5/10\n",
            "5723/5723 [==============================] - 1516s 265ms/step - loss: 0.9259 - val_loss: 0.9406\n",
            "Epoch 6/10\n",
            "5723/5723 [==============================] - 1509s 264ms/step - loss: 0.9072 - val_loss: 0.9298\n",
            "Epoch 7/10\n",
            "5723/5723 [==============================] - 1509s 264ms/step - loss: 0.8931 - val_loss: 0.9217\n",
            "Epoch 8/10\n",
            "5723/5723 [==============================] - 1515s 265ms/step - loss: 0.8825 - val_loss: 0.9158\n",
            "Epoch 9/10\n",
            "5723/5723 [==============================] - 1521s 266ms/step - loss: 0.8729 - val_loss: 0.9109\n",
            "Epoch 10/10\n",
            "5723/5723 [==============================] - 1520s 266ms/step - loss: 0.8655 - val_loss: 0.9078\n"
          ],
          "name": "stdout"
        }
      ]
    },
    {
      "cell_type": "code",
      "metadata": {
        "id": "cgFxYvt0tuz7",
        "colab_type": "code",
        "colab": {
          "base_uri": "https://localhost:8080/",
          "height": 281
        },
        "outputId": "bacbb63b-9214-467e-8bf5-f303e9418816"
      },
      "source": [
        "#############################################################################################################3\n",
        "###After this we can use the trained model to predict things, and view history variables\n",
        "\n",
        "##Plotting\n",
        "import matplotlib.pyplot as plt\n",
        "\n",
        "loss = history.history['loss']\n",
        "val_loss = history.history['val_loss']\n",
        "epochs = range(1, len(loss) + 1)\n",
        "\n",
        "plt.figure()\n",
        "plt.plot(epochs, loss, 'bo', label='Training loss')\n",
        "plt.plot(epochs, val_loss, 'b', label='Validation loss')\n",
        "plt.title('Training and validation loss')\n",
        "plt.legend()\n",
        "plt.show()"
      ],
      "execution_count": 7,
      "outputs": [
        {
          "output_type": "display_data",
          "data": {
            "image/png": "[encoded data removed]",
            "text/plain": [
              "<Figure size 432x288 with 1 Axes>"
            ]
          },
          "metadata": {
            "tags": []
          }
        }
      ]
    }
  ]
}